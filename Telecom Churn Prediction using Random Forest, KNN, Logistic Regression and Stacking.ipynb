{
 "cells": [
  {
   "cell_type": "code",
   "execution_count": 4,
   "metadata": {},
   "outputs": [],
   "source": [
    "import pandas as pd\n",
    "import numpy as np\n",
    "\n",
    "import statsmodels.api as sm\n",
    "import scipy.stats as st\n",
    "import matplotlib.pyplot as plt\n",
    "%matplotlib inline\n",
    "from sklearn import metrics\n",
    "import seaborn as sns\n",
    "pd.set_option(\"display.max_columns\",None)\n",
    "pd.set_option(\"display.max_rows\",None)\n",
    "\n",
    "from sklearn.model_selection import train_test_split\n",
    "\n",
    "import warnings \n",
    "warnings.filterwarnings('ignore')"
   ]
  },
  {
   "cell_type": "code",
   "execution_count": 5,
   "metadata": {},
   "outputs": [
    {
     "data": {
      "text/html": [
       "<div>\n",
       "<style scoped>\n",
       "    .dataframe tbody tr th:only-of-type {\n",
       "        vertical-align: middle;\n",
       "    }\n",
       "\n",
       "    .dataframe tbody tr th {\n",
       "        vertical-align: top;\n",
       "    }\n",
       "\n",
       "    .dataframe thead th {\n",
       "        text-align: right;\n",
       "    }\n",
       "</style>\n",
       "<table border=\"1\" class=\"dataframe\">\n",
       "  <thead>\n",
       "    <tr style=\"text-align: right;\">\n",
       "      <th></th>\n",
       "      <th>gender</th>\n",
       "      <th>senior</th>\n",
       "      <th>partner</th>\n",
       "      <th>dependents</th>\n",
       "      <th>tenure</th>\n",
       "      <th>phone_service</th>\n",
       "      <th>multiple_lines</th>\n",
       "      <th>online_security</th>\n",
       "      <th>online_backup</th>\n",
       "      <th>device_protection</th>\n",
       "      <th>tech_support</th>\n",
       "      <th>streaming_tv</th>\n",
       "      <th>streaming_movies</th>\n",
       "      <th>paperless_billing</th>\n",
       "      <th>monthly_charges</th>\n",
       "      <th>total_charges</th>\n",
       "      <th>churn</th>\n",
       "      <th>avg_monthly_charges</th>\n",
       "      <th>internet_service-fiber_optic</th>\n",
       "      <th>internet_service-no</th>\n",
       "      <th>contract-one_year</th>\n",
       "      <th>contract-two_year</th>\n",
       "      <th>payment_method-credit_card_auto</th>\n",
       "      <th>payment_method-electronic_check</th>\n",
       "      <th>payment_method-mailed_check</th>\n",
       "    </tr>\n",
       "  </thead>\n",
       "  <tbody>\n",
       "    <tr>\n",
       "      <td>5571</td>\n",
       "      <td>0</td>\n",
       "      <td>0</td>\n",
       "      <td>0</td>\n",
       "      <td>0</td>\n",
       "      <td>48</td>\n",
       "      <td>1</td>\n",
       "      <td>0</td>\n",
       "      <td>0</td>\n",
       "      <td>0</td>\n",
       "      <td>0</td>\n",
       "      <td>0</td>\n",
       "      <td>0</td>\n",
       "      <td>0</td>\n",
       "      <td>0</td>\n",
       "      <td>19.95</td>\n",
       "      <td>1004.50</td>\n",
       "      <td>0</td>\n",
       "      <td>20.927083</td>\n",
       "      <td>0</td>\n",
       "      <td>1</td>\n",
       "      <td>1</td>\n",
       "      <td>0</td>\n",
       "      <td>0</td>\n",
       "      <td>0</td>\n",
       "      <td>0</td>\n",
       "    </tr>\n",
       "    <tr>\n",
       "      <td>3432</td>\n",
       "      <td>0</td>\n",
       "      <td>0</td>\n",
       "      <td>1</td>\n",
       "      <td>0</td>\n",
       "      <td>18</td>\n",
       "      <td>1</td>\n",
       "      <td>1</td>\n",
       "      <td>0</td>\n",
       "      <td>0</td>\n",
       "      <td>0</td>\n",
       "      <td>0</td>\n",
       "      <td>1</td>\n",
       "      <td>1</td>\n",
       "      <td>1</td>\n",
       "      <td>94.70</td>\n",
       "      <td>1687.95</td>\n",
       "      <td>1</td>\n",
       "      <td>93.775000</td>\n",
       "      <td>1</td>\n",
       "      <td>0</td>\n",
       "      <td>0</td>\n",
       "      <td>0</td>\n",
       "      <td>0</td>\n",
       "      <td>1</td>\n",
       "      <td>0</td>\n",
       "    </tr>\n",
       "    <tr>\n",
       "      <td>2170</td>\n",
       "      <td>1</td>\n",
       "      <td>0</td>\n",
       "      <td>0</td>\n",
       "      <td>0</td>\n",
       "      <td>30</td>\n",
       "      <td>1</td>\n",
       "      <td>0</td>\n",
       "      <td>0</td>\n",
       "      <td>0</td>\n",
       "      <td>0</td>\n",
       "      <td>1</td>\n",
       "      <td>1</td>\n",
       "      <td>0</td>\n",
       "      <td>0</td>\n",
       "      <td>85.15</td>\n",
       "      <td>2555.90</td>\n",
       "      <td>1</td>\n",
       "      <td>85.196667</td>\n",
       "      <td>1</td>\n",
       "      <td>0</td>\n",
       "      <td>0</td>\n",
       "      <td>0</td>\n",
       "      <td>0</td>\n",
       "      <td>1</td>\n",
       "      <td>0</td>\n",
       "    </tr>\n",
       "    <tr>\n",
       "      <td>4230</td>\n",
       "      <td>0</td>\n",
       "      <td>0</td>\n",
       "      <td>0</td>\n",
       "      <td>0</td>\n",
       "      <td>5</td>\n",
       "      <td>1</td>\n",
       "      <td>0</td>\n",
       "      <td>0</td>\n",
       "      <td>0</td>\n",
       "      <td>1</td>\n",
       "      <td>0</td>\n",
       "      <td>1</td>\n",
       "      <td>1</td>\n",
       "      <td>1</td>\n",
       "      <td>70.05</td>\n",
       "      <td>346.40</td>\n",
       "      <td>1</td>\n",
       "      <td>69.280000</td>\n",
       "      <td>0</td>\n",
       "      <td>0</td>\n",
       "      <td>0</td>\n",
       "      <td>0</td>\n",
       "      <td>0</td>\n",
       "      <td>1</td>\n",
       "      <td>0</td>\n",
       "    </tr>\n",
       "    <tr>\n",
       "      <td>510</td>\n",
       "      <td>0</td>\n",
       "      <td>0</td>\n",
       "      <td>0</td>\n",
       "      <td>0</td>\n",
       "      <td>61</td>\n",
       "      <td>1</td>\n",
       "      <td>1</td>\n",
       "      <td>1</td>\n",
       "      <td>0</td>\n",
       "      <td>1</td>\n",
       "      <td>0</td>\n",
       "      <td>1</td>\n",
       "      <td>1</td>\n",
       "      <td>1</td>\n",
       "      <td>106.45</td>\n",
       "      <td>6300.15</td>\n",
       "      <td>0</td>\n",
       "      <td>103.281148</td>\n",
       "      <td>1</td>\n",
       "      <td>0</td>\n",
       "      <td>0</td>\n",
       "      <td>0</td>\n",
       "      <td>0</td>\n",
       "      <td>1</td>\n",
       "      <td>0</td>\n",
       "    </tr>\n",
       "  </tbody>\n",
       "</table>\n",
       "</div>"
      ],
      "text/plain": [
       "      gender  senior  partner  dependents  tenure  phone_service  \\\n",
       "5571       0       0        0           0      48              1   \n",
       "3432       0       0        1           0      18              1   \n",
       "2170       1       0        0           0      30              1   \n",
       "4230       0       0        0           0       5              1   \n",
       "510        0       0        0           0      61              1   \n",
       "\n",
       "      multiple_lines  online_security  online_backup  device_protection  \\\n",
       "5571               0                0              0                  0   \n",
       "3432               1                0              0                  0   \n",
       "2170               0                0              0                  0   \n",
       "4230               0                0              0                  1   \n",
       "510                1                1              0                  1   \n",
       "\n",
       "      tech_support  streaming_tv  streaming_movies  paperless_billing  \\\n",
       "5571             0             0                 0                  0   \n",
       "3432             0             1                 1                  1   \n",
       "2170             1             1                 0                  0   \n",
       "4230             0             1                 1                  1   \n",
       "510              0             1                 1                  1   \n",
       "\n",
       "      monthly_charges  total_charges  churn  avg_monthly_charges  \\\n",
       "5571            19.95        1004.50      0            20.927083   \n",
       "3432            94.70        1687.95      1            93.775000   \n",
       "2170            85.15        2555.90      1            85.196667   \n",
       "4230            70.05         346.40      1            69.280000   \n",
       "510            106.45        6300.15      0           103.281148   \n",
       "\n",
       "      internet_service-fiber_optic  internet_service-no  contract-one_year  \\\n",
       "5571                             0                    1                  1   \n",
       "3432                             1                    0                  0   \n",
       "2170                             1                    0                  0   \n",
       "4230                             0                    0                  0   \n",
       "510                              1                    0                  0   \n",
       "\n",
       "      contract-two_year  payment_method-credit_card_auto  \\\n",
       "5571                  0                                0   \n",
       "3432                  0                                0   \n",
       "2170                  0                                0   \n",
       "4230                  0                                0   \n",
       "510                   0                                0   \n",
       "\n",
       "      payment_method-electronic_check  payment_method-mailed_check  \n",
       "5571                                0                            0  \n",
       "3432                                1                            0  \n",
       "2170                                1                            0  \n",
       "4230                                1                            0  \n",
       "510                                 1                            0  "
      ]
     },
     "execution_count": 5,
     "metadata": {},
     "output_type": "execute_result"
    }
   ],
   "source": [
    "df=pd.read_csv('C:\\\\Users\\\\Vignesh Prakash\\\\Documents\\\\Great Learning\\\\Class\\\\SLC\\\\telco_chrun_encoded.csv')\n",
    "df=df.sample(frac=0.5,random_state=3)\n",
    "df.head()"
   ]
  },
  {
   "cell_type": "code",
   "execution_count": 6,
   "metadata": {},
   "outputs": [
    {
     "data": {
      "text/plain": [
       "<matplotlib.axes._subplots.AxesSubplot at 0x1587340f3c8>"
      ]
     },
     "execution_count": 6,
     "metadata": {},
     "output_type": "execute_result"
    },
    {
     "data": {
      "image/png": "[encoded data removed]",
      "text/plain": [
       "<Figure size 360x360 with 1 Axes>"
      ]
     },
     "metadata": {},
     "output_type": "display_data"
    }
   ],
   "source": [
    "plt.figure(figsize=(5,5))\n",
    "df.churn.value_counts().plot(kind='pie',autopct='%1.1f',explode=(0.1,0))"
   ]
  },
  {
   "cell_type": "code",
   "execution_count": 7,
   "metadata": {},
   "outputs": [
    {
     "name": "stdout",
     "output_type": "stream",
     "text": [
      "<class 'pandas.core.frame.DataFrame'>\n",
      "Int64Index: 3516 entries, 5571 to 4322\n",
      "Data columns (total 25 columns):\n",
      "gender                             3516 non-null int64\n",
      "senior                             3516 non-null int64\n",
      "partner                            3516 non-null int64\n",
      "dependents                         3516 non-null int64\n",
      "tenure                             3516 non-null int64\n",
      "phone_service                      3516 non-null int64\n",
      "multiple_lines                     3516 non-null int64\n",
      "online_security                    3516 non-null int64\n",
      "online_backup                      3516 non-null int64\n",
      "device_protection                  3516 non-null int64\n",
      "tech_support                       3516 non-null int64\n",
      "streaming_tv                       3516 non-null int64\n",
      "streaming_movies                   3516 non-null int64\n",
      "paperless_billing                  3516 non-null int64\n",
      "monthly_charges                    3516 non-null float64\n",
      "total_charges                      3516 non-null float64\n",
      "churn                              3516 non-null int64\n",
      "avg_monthly_charges                3516 non-null float64\n",
      "internet_service-fiber_optic       3516 non-null int64\n",
      "internet_service-no                3516 non-null int64\n",
      "contract-one_year                  3516 non-null int64\n",
      "contract-two_year                  3516 non-null int64\n",
      "payment_method-credit_card_auto    3516 non-null int64\n",
      "payment_method-electronic_check    3516 non-null int64\n",
      "payment_method-mailed_check        3516 non-null int64\n",
      "dtypes: float64(3), int64(22)\n",
      "memory usage: 714.2 KB\n"
     ]
    }
   ],
   "source": [
    "df.info()"
   ]
  },
  {
   "cell_type": "code",
   "execution_count": 8,
   "metadata": {},
   "outputs": [
    {
     "data": {
      "text/plain": [
       "<matplotlib.axes._subplots.AxesSubplot at 0x15877fe9ec8>"
      ]
     },
     "execution_count": 8,
     "metadata": {},
     "output_type": "execute_result"
    },
    {
     "data": {
      "image/png": "[encoded data removed]",
      "text/plain": [
       "<Figure size 1440x360 with 1 Axes>"
      ]
     },
     "metadata": {
      "needs_background": "light"
     },
     "output_type": "display_data"
    }
   ],
   "source": [
    "plt.figure(figsize=(20,5))\n",
    "df.boxplot()"
   ]
  },
  {
   "cell_type": "code",
   "execution_count": 9,
   "metadata": {},
   "outputs": [],
   "source": [
    "df=df.sample(frac=1,random_state=3)\n",
    "y=df['churn']\n",
    "X=df.drop('churn',axis=1)"
   ]
  },
  {
   "cell_type": "code",
   "execution_count": 10,
   "metadata": {},
   "outputs": [
    {
     "data": {
      "text/plain": [
       "0    2584\n",
       "1     932\n",
       "Name: churn, dtype: int64"
      ]
     },
     "execution_count": 10,
     "metadata": {},
     "output_type": "execute_result"
    }
   ],
   "source": [
    "df['churn'].value_counts()"
   ]
  },
  {
   "cell_type": "code",
   "execution_count": 11,
   "metadata": {},
   "outputs": [
    {
     "data": {
      "text/plain": [
       "const                              3.500872e-05\n",
       "gender                             9.145529e-02\n",
       "senior                             1.966828e-01\n",
       "partner                            3.730657e-01\n",
       "dependents                         1.635809e-02\n",
       "tenure                             2.803784e-03\n",
       "phone_service                      2.014836e-01\n",
       "multiple_lines                     6.925736e-03\n",
       "online_security                    6.608071e-01\n",
       "online_backup                      5.772939e-01\n",
       "device_protection                  5.884974e-01\n",
       "tech_support                       6.607235e-01\n",
       "streaming_tv                       2.640907e-02\n",
       "streaming_movies                   1.222953e-02\n",
       "paperless_billing                  6.998033e-03\n",
       "monthly_charges                    2.975660e-02\n",
       "total_charges                      5.650639e-05\n",
       "avg_monthly_charges                6.552978e-02\n",
       "internet_service-fiber_optic       7.709282e-03\n",
       "internet_service-no                7.046006e-03\n",
       "contract-one_year                  4.412904e-07\n",
       "contract-two_year                  2.026816e-03\n",
       "payment_method-credit_card_auto    9.584953e-01\n",
       "payment_method-electronic_check    1.569580e-03\n",
       "payment_method-mailed_check        5.820123e-01\n",
       "dtype: float64"
      ]
     },
     "execution_count": 11,
     "metadata": {},
     "output_type": "execute_result"
    }
   ],
   "source": [
    "import statsmodels.api as sm\n",
    "from sklearn.metrics import confusion_matrix,accuracy_score,classification_report,roc_auc_score,log_loss,f1_score\n",
    "\n",
    "#Adding constant column of ones, mandatory for sm.OLS model\n",
    "X_1 = sm.add_constant(X)\n",
    "#Fitting sm.OLS model\n",
    "model = sm.OLS(y,X_1).fit()\n",
    "model.pvalues"
   ]
  },
  {
   "cell_type": "code",
   "execution_count": 12,
   "metadata": {},
   "outputs": [
    {
     "data": {
      "text/plain": [
       "<matplotlib.axes._subplots.AxesSubplot at 0x158794d6f48>"
      ]
     },
     "execution_count": 12,
     "metadata": {},
     "output_type": "execute_result"
    },
    {
     "data": {
      "image/png": "[encoded data removed]",
      "text/plain": [
       "<Figure size 432x288 with 1 Axes>"
      ]
     },
     "metadata": {
      "needs_background": "light"
     },
     "output_type": "display_data"
    }
   ],
   "source": [
    "df['churn'].value_counts(normalize=True).plot.bar()"
   ]
  },
  {
   "cell_type": "code",
   "execution_count": 14,
   "metadata": {},
   "outputs": [],
   "source": [
    "df= df.sample(frac=1,random_state=3)\n",
    "y=df['churn']\n",
    "X= df.drop(['churn'],axis=1)"
   ]
  },
  {
   "cell_type": "markdown",
   "metadata": {},
   "source": [
    "# Building predictive algorithm using random forest"
   ]
  },
  {
   "cell_type": "code",
   "execution_count": 16,
   "metadata": {},
   "outputs": [],
   "source": [
    "from sklearn.model_selection import train_test_split\n",
    "\n",
    "X_train,X_test,y_train,y_test=train_test_split(X,y,test_size=0.3,random_state=3)"
   ]
  },
  {
   "cell_type": "code",
   "execution_count": 19,
   "metadata": {},
   "outputs": [],
   "source": [
    "from sklearn.preprocessing import StandardScaler\n",
    "ss=StandardScaler()\n",
    "Xs=ss.fit_transform(X)\n",
    "\n",
    "X_trains=ss.fit_transform(X_train)\n",
    "X_tests=ss.transform(X_test)"
   ]
  },
  {
   "cell_type": "code",
   "execution_count": 20,
   "metadata": {},
   "outputs": [
    {
     "name": "stdout",
     "output_type": "stream",
     "text": [
      "Confusion Matrix - Train: \n",
      " [[1806    1]\n",
      " [   1  653]]\n",
      "\n",
      "\n",
      "Overall Accuracy - Train:  0.9991873222267371\n",
      "AUC - Train:  0.9999983076347673\n",
      "\n",
      "\n",
      "Confusion Matrix - Test: \n",
      " [[698  79]\n",
      " [138 140]]\n",
      "\n",
      "\n",
      "Overall Accuracy - Test:  0.7943127962085308\n",
      "AUC - Test:  0.8266344453394812\n"
     ]
    },
    {
     "data": {
      "image/png": "[encoded data removed]",
      "text/plain": [
       "<Figure size 432x288 with 2 Axes>"
      ]
     },
     "metadata": {
      "needs_background": "light"
     },
     "output_type": "display_data"
    }
   ],
   "source": [
    "from sklearn.metrics import confusion_matrix,accuracy_score,roc_auc_score,roc_curve\n",
    "from sklearn.ensemble import RandomForestClassifier\n",
    "rfc=RandomForestClassifier(n_estimators=100)\n",
    "\n",
    "rfc.fit(X_trains,y_train)\n",
    "y_train_pred =rfc.predict(X_trains)\n",
    "y_train_prob = rfc.predict_proba(X_trains)[:,1]\n",
    "\n",
    "print('Confusion Matrix - Train: \\n', confusion_matrix(y_train, y_train_pred))\n",
    "print('\\n')\n",
    "print('Overall Accuracy - Train: ', accuracy_score(y_train, y_train_pred))\n",
    "print('AUC - Train: ', roc_auc_score(y_train, y_train_prob))\n",
    "\n",
    "y_test_pred = rfc.predict(X_tests)\n",
    "y_test_prob = rfc.predict_proba(X_tests)[:,1]\n",
    "\n",
    "print('\\n')\n",
    "print('Confusion Matrix - Test: \\n', confusion_matrix(y_test, y_test_pred))\n",
    "print('\\n')\n",
    "print('Overall Accuracy - Test: ', accuracy_score(y_test, y_test_pred))\n",
    "print('AUC - Test: ', roc_auc_score(y_test, y_test_prob))\n",
    "\n",
    "fpr,tpr,th=roc_curve(y_test, y_test_prob)\n",
    "fig,ax=plt.subplots()\n",
    "plt.plot(fpr,tpr)\n",
    "plt.plot(fpr,fpr)\n",
    "ax1=ax.twinx()"
   ]
  },
  {
   "cell_type": "markdown",
   "metadata": {},
   "source": [
    "# Hyperparameter Tuning of random forest"
   ]
  },
  {
   "cell_type": "code",
   "execution_count": 21,
   "metadata": {},
   "outputs": [
    {
     "data": {
      "text/plain": [
       "(2461, 24)"
      ]
     },
     "execution_count": 21,
     "metadata": {},
     "output_type": "execute_result"
    }
   ],
   "source": [
    "X_trains.shape"
   ]
  },
  {
   "cell_type": "code",
   "execution_count": 22,
   "metadata": {},
   "outputs": [
    {
     "data": {
      "text/plain": [
       "RandomizedSearchCV(cv=3, estimator=RandomForestClassifier(), n_iter=200,\n",
       "                   n_jobs=-1,\n",
       "                   param_distributions={'criterion': ['gini', 'entropy'],\n",
       "                                        'max_depth': <scipy.stats._distn_infrastructure.rv_frozen object at 0x00000158734CEDC8>,\n",
       "                                        'max_features': <scipy.stats._distn_infrastructure.rv_frozen object at 0x00000158792EBFC8>,\n",
       "                                        'min_samples_leaf': <scipy.stats._distn_infrastructure.rv_frozen object at 0x00000158793221C8>,\n",
       "                                        'min_samples_split': <scipy.stats._distn_infrastructure.rv_frozen object at 0x0000015879322308>,\n",
       "                                        'n_estimators': <scipy.stats._distn_infrastructure.rv_frozen object at 0x000001587924AAC8>},\n",
       "                   random_state=3, return_train_score=True, scoring='roc_auc')"
      ]
     },
     "execution_count": 22,
     "metadata": {},
     "output_type": "execute_result"
    }
   ],
   "source": [
    "from sklearn.model_selection import RandomizedSearchCV\n",
    "from scipy.stats import randint as sp_randint\n",
    "\n",
    "rfc=RandomForestClassifier(n_estimators=100)\n",
    "params={'n_estimators':sp_randint(50,200),\n",
    "        'max_features':sp_randint(1,14),\n",
    "        'max_depth': sp_randint(2,10),\n",
    "        'min_samples_split':sp_randint(2,20),\n",
    "        'min_samples_leaf':sp_randint(1,20),\n",
    "        'criterion':['gini','entropy']}\n",
    "\n",
    "rsearch_rfc=RandomizedSearchCV(rfc,param_distributions=params,n_iter=200,cv=3,scoring='roc_auc',random_state=3,n_jobs=-1,return_train_score=True)\n",
    "\n",
    "rsearch_rfc.fit(Xs,y)\n"
   ]
  },
  {
   "cell_type": "code",
   "execution_count": 23,
   "metadata": {},
   "outputs": [
    {
     "data": {
      "text/plain": [
       "{'criterion': 'entropy',\n",
       " 'max_depth': 9,\n",
       " 'max_features': 2,\n",
       " 'min_samples_leaf': 15,\n",
       " 'min_samples_split': 8,\n",
       " 'n_estimators': 186}"
      ]
     },
     "execution_count": 23,
     "metadata": {},
     "output_type": "execute_result"
    }
   ],
   "source": [
    "rsearch_rfc.best_params_"
   ]
  },
  {
   "cell_type": "code",
   "execution_count": 24,
   "metadata": {},
   "outputs": [
    {
     "data": {
      "text/html": [
       "<div>\n",
       "<style scoped>\n",
       "    .dataframe tbody tr th:only-of-type {\n",
       "        vertical-align: middle;\n",
       "    }\n",
       "\n",
       "    .dataframe tbody tr th {\n",
       "        vertical-align: top;\n",
       "    }\n",
       "\n",
       "    .dataframe thead th {\n",
       "        text-align: right;\n",
       "    }\n",
       "</style>\n",
       "<table border=\"1\" class=\"dataframe\">\n",
       "  <thead>\n",
       "    <tr style=\"text-align: right;\">\n",
       "      <th></th>\n",
       "      <th>mean_fit_time</th>\n",
       "      <th>std_fit_time</th>\n",
       "      <th>mean_score_time</th>\n",
       "      <th>std_score_time</th>\n",
       "      <th>param_criterion</th>\n",
       "      <th>param_max_depth</th>\n",
       "      <th>param_max_features</th>\n",
       "      <th>param_min_samples_leaf</th>\n",
       "      <th>param_min_samples_split</th>\n",
       "      <th>param_n_estimators</th>\n",
       "      <th>params</th>\n",
       "      <th>split0_test_score</th>\n",
       "      <th>split1_test_score</th>\n",
       "      <th>split2_test_score</th>\n",
       "      <th>mean_test_score</th>\n",
       "      <th>std_test_score</th>\n",
       "      <th>rank_test_score</th>\n",
       "      <th>split0_train_score</th>\n",
       "      <th>split1_train_score</th>\n",
       "      <th>split2_train_score</th>\n",
       "      <th>mean_train_score</th>\n",
       "      <th>std_train_score</th>\n",
       "    </tr>\n",
       "  </thead>\n",
       "  <tbody>\n",
       "    <tr>\n",
       "      <td>0</td>\n",
       "      <td>0.231616</td>\n",
       "      <td>0.004878</td>\n",
       "      <td>0.018302</td>\n",
       "      <td>0.003555</td>\n",
       "      <td>gini</td>\n",
       "      <td>2</td>\n",
       "      <td>10</td>\n",
       "      <td>4</td>\n",
       "      <td>10</td>\n",
       "      <td>50</td>\n",
       "      <td>{'criterion': 'gini', 'max_depth': 2, 'max_fea...</td>\n",
       "      <td>0.817633</td>\n",
       "      <td>0.825030</td>\n",
       "      <td>0.840130</td>\n",
       "      <td>0.827598</td>\n",
       "      <td>0.009362</td>\n",
       "      <td>195</td>\n",
       "      <td>0.840090</td>\n",
       "      <td>0.835349</td>\n",
       "      <td>0.837549</td>\n",
       "      <td>0.837663</td>\n",
       "      <td>0.001937</td>\n",
       "    </tr>\n",
       "    <tr>\n",
       "      <td>1</td>\n",
       "      <td>1.022316</td>\n",
       "      <td>0.065620</td>\n",
       "      <td>0.094697</td>\n",
       "      <td>0.025770</td>\n",
       "      <td>entropy</td>\n",
       "      <td>7</td>\n",
       "      <td>4</td>\n",
       "      <td>11</td>\n",
       "      <td>13</td>\n",
       "      <td>188</td>\n",
       "      <td>{'criterion': 'entropy', 'max_depth': 7, 'max_...</td>\n",
       "      <td>0.836078</td>\n",
       "      <td>0.838745</td>\n",
       "      <td>0.854766</td>\n",
       "      <td>0.843196</td>\n",
       "      <td>0.008253</td>\n",
       "      <td>22</td>\n",
       "      <td>0.893148</td>\n",
       "      <td>0.889569</td>\n",
       "      <td>0.886362</td>\n",
       "      <td>0.889693</td>\n",
       "      <td>0.002772</td>\n",
       "    </tr>\n",
       "  </tbody>\n",
       "</table>\n",
       "</div>"
      ],
      "text/plain": [
       "   mean_fit_time  std_fit_time  mean_score_time  std_score_time  \\\n",
       "0       0.231616      0.004878         0.018302        0.003555   \n",
       "1       1.022316      0.065620         0.094697        0.025770   \n",
       "\n",
       "  param_criterion param_max_depth param_max_features param_min_samples_leaf  \\\n",
       "0            gini               2                 10                      4   \n",
       "1         entropy               7                  4                     11   \n",
       "\n",
       "  param_min_samples_split param_n_estimators  \\\n",
       "0                      10                 50   \n",
       "1                      13                188   \n",
       "\n",
       "                                              params  split0_test_score  \\\n",
       "0  {'criterion': 'gini', 'max_depth': 2, 'max_fea...           0.817633   \n",
       "1  {'criterion': 'entropy', 'max_depth': 7, 'max_...           0.836078   \n",
       "\n",
       "   split1_test_score  split2_test_score  mean_test_score  std_test_score  \\\n",
       "0           0.825030           0.840130         0.827598        0.009362   \n",
       "1           0.838745           0.854766         0.843196        0.008253   \n",
       "\n",
       "   rank_test_score  split0_train_score  split1_train_score  \\\n",
       "0              195            0.840090            0.835349   \n",
       "1               22            0.893148            0.889569   \n",
       "\n",
       "   split2_train_score  mean_train_score  std_train_score  \n",
       "0            0.837549          0.837663         0.001937  \n",
       "1            0.886362          0.889693         0.002772  "
      ]
     },
     "execution_count": 24,
     "metadata": {},
     "output_type": "execute_result"
    }
   ],
   "source": [
    "pd.DataFrame(rsearch_rfc.cv_results_).head(2)"
   ]
  },
  {
   "cell_type": "code",
   "execution_count": 25,
   "metadata": {},
   "outputs": [
    {
     "name": "stdout",
     "output_type": "stream",
     "text": [
      "Confusion Matrix - Train: \n",
      " [[1732   75]\n",
      " [ 386  268]]\n",
      "\n",
      "\n",
      "Overall Accuracy - Train:  0.8126777732629012\n",
      "AUC - Train:  0.8806950205537757\n",
      "\n",
      "\n",
      "Confusion Matrix - Test: \n",
      " [[733  44]\n",
      " [178 100]]\n",
      "\n",
      "\n",
      "Overall Accuracy - Test:  0.7895734597156399\n",
      "AUC - Test:  0.8487611455237354\n"
     ]
    },
    {
     "data": {
      "image/png": "[encoded data removed]",
      "text/plain": [
       "<Figure size 432x288 with 2 Axes>"
      ]
     },
     "metadata": {
      "needs_background": "light"
     },
     "output_type": "display_data"
    }
   ],
   "source": [
    "rfc=RandomForestClassifier(**rsearch_rfc.best_params_,random_state=3)\n",
    "\n",
    "rfc.fit(X_trains,y_train)\n",
    "y_train_pred =rfc.predict(X_trains)\n",
    "y_train_prob = rfc.predict_proba(X_trains)[:,1]\n",
    "\n",
    "print('Confusion Matrix - Train: \\n', confusion_matrix(y_train, y_train_pred))\n",
    "print('\\n')\n",
    "print('Overall Accuracy - Train: ', accuracy_score(y_train, y_train_pred))\n",
    "print('AUC - Train: ', roc_auc_score(y_train, y_train_prob))\n",
    "\n",
    "y_test_pred = rfc.predict(X_tests)\n",
    "y_test_prob = rfc.predict_proba(X_tests)[:,1]\n",
    "\n",
    "print('\\n')\n",
    "print('Confusion Matrix - Test: \\n', confusion_matrix(y_test, y_test_pred))\n",
    "print('\\n')\n",
    "print('Overall Accuracy - Test: ', accuracy_score(y_test, y_test_pred))\n",
    "print('AUC - Test: ', roc_auc_score(y_test, y_test_prob))\n",
    "\n",
    "\n",
    "fpr,tpr,th=roc_curve(y_test, y_test_prob)\n",
    "fig,ax=plt.subplots()\n",
    "plt.plot(fpr,tpr)\n",
    "plt.plot(fpr,fpr)\n",
    "ax1=ax.twinx()"
   ]
  },
  {
   "cell_type": "code",
   "execution_count": 27,
   "metadata": {},
   "outputs": [
    {
     "data": {
      "text/html": [
       "<div>\n",
       "<style scoped>\n",
       "    .dataframe tbody tr th:only-of-type {\n",
       "        vertical-align: middle;\n",
       "    }\n",
       "\n",
       "    .dataframe tbody tr th {\n",
       "        vertical-align: top;\n",
       "    }\n",
       "\n",
       "    .dataframe thead th {\n",
       "        text-align: right;\n",
       "    }\n",
       "</style>\n",
       "<table border=\"1\" class=\"dataframe\">\n",
       "  <thead>\n",
       "    <tr style=\"text-align: right;\">\n",
       "      <th></th>\n",
       "      <th>imp</th>\n",
       "    </tr>\n",
       "  </thead>\n",
       "  <tbody>\n",
       "    <tr>\n",
       "      <td>tenure</td>\n",
       "      <td>0.171255</td>\n",
       "    </tr>\n",
       "    <tr>\n",
       "      <td>total_charges</td>\n",
       "      <td>0.124441</td>\n",
       "    </tr>\n",
       "    <tr>\n",
       "      <td>contract-two_year</td>\n",
       "      <td>0.106603</td>\n",
       "    </tr>\n",
       "    <tr>\n",
       "      <td>avg_monthly_charges</td>\n",
       "      <td>0.087873</td>\n",
       "    </tr>\n",
       "    <tr>\n",
       "      <td>internet_service-fiber_optic</td>\n",
       "      <td>0.086306</td>\n",
       "    </tr>\n",
       "    <tr>\n",
       "      <td>monthly_charges</td>\n",
       "      <td>0.086263</td>\n",
       "    </tr>\n",
       "    <tr>\n",
       "      <td>payment_method-electronic_check</td>\n",
       "      <td>0.050262</td>\n",
       "    </tr>\n",
       "    <tr>\n",
       "      <td>internet_service-no</td>\n",
       "      <td>0.040605</td>\n",
       "    </tr>\n",
       "    <tr>\n",
       "      <td>online_security</td>\n",
       "      <td>0.034937</td>\n",
       "    </tr>\n",
       "    <tr>\n",
       "      <td>contract-one_year</td>\n",
       "      <td>0.029304</td>\n",
       "    </tr>\n",
       "    <tr>\n",
       "      <td>tech_support</td>\n",
       "      <td>0.026675</td>\n",
       "    </tr>\n",
       "    <tr>\n",
       "      <td>paperless_billing</td>\n",
       "      <td>0.026585</td>\n",
       "    </tr>\n",
       "    <tr>\n",
       "      <td>dependents</td>\n",
       "      <td>0.015722</td>\n",
       "    </tr>\n",
       "    <tr>\n",
       "      <td>online_backup</td>\n",
       "      <td>0.014941</td>\n",
       "    </tr>\n",
       "    <tr>\n",
       "      <td>device_protection</td>\n",
       "      <td>0.014549</td>\n",
       "    </tr>\n",
       "    <tr>\n",
       "      <td>streaming_movies</td>\n",
       "      <td>0.012409</td>\n",
       "    </tr>\n",
       "    <tr>\n",
       "      <td>payment_method-credit_card_auto</td>\n",
       "      <td>0.011905</td>\n",
       "    </tr>\n",
       "    <tr>\n",
       "      <td>partner</td>\n",
       "      <td>0.010826</td>\n",
       "    </tr>\n",
       "    <tr>\n",
       "      <td>multiple_lines</td>\n",
       "      <td>0.009879</td>\n",
       "    </tr>\n",
       "    <tr>\n",
       "      <td>senior</td>\n",
       "      <td>0.009731</td>\n",
       "    </tr>\n",
       "    <tr>\n",
       "      <td>streaming_tv</td>\n",
       "      <td>0.009202</td>\n",
       "    </tr>\n",
       "    <tr>\n",
       "      <td>gender</td>\n",
       "      <td>0.007988</td>\n",
       "    </tr>\n",
       "    <tr>\n",
       "      <td>payment_method-mailed_check</td>\n",
       "      <td>0.006444</td>\n",
       "    </tr>\n",
       "    <tr>\n",
       "      <td>phone_service</td>\n",
       "      <td>0.005296</td>\n",
       "    </tr>\n",
       "  </tbody>\n",
       "</table>\n",
       "</div>"
      ],
      "text/plain": [
       "                                      imp\n",
       "tenure                           0.171255\n",
       "total_charges                    0.124441\n",
       "contract-two_year                0.106603\n",
       "avg_monthly_charges              0.087873\n",
       "internet_service-fiber_optic     0.086306\n",
       "monthly_charges                  0.086263\n",
       "payment_method-electronic_check  0.050262\n",
       "internet_service-no              0.040605\n",
       "online_security                  0.034937\n",
       "contract-one_year                0.029304\n",
       "tech_support                     0.026675\n",
       "paperless_billing                0.026585\n",
       "dependents                       0.015722\n",
       "online_backup                    0.014941\n",
       "device_protection                0.014549\n",
       "streaming_movies                 0.012409\n",
       "payment_method-credit_card_auto  0.011905\n",
       "partner                          0.010826\n",
       "multiple_lines                   0.009879\n",
       "senior                           0.009731\n",
       "streaming_tv                     0.009202\n",
       "gender                           0.007988\n",
       "payment_method-mailed_check      0.006444\n",
       "phone_service                    0.005296"
      ]
     },
     "execution_count": 27,
     "metadata": {},
     "output_type": "execute_result"
    }
   ],
   "source": [
    "imp=pd.DataFrame(rfc.feature_importances_,index=X.columns,columns=['imp'])\n",
    "imp=imp.sort_values(by='imp',ascending=False)\n",
    "imp"
   ]
  },
  {
   "cell_type": "markdown",
   "metadata": {},
   "source": [
    "##### Importance denotes by what percent it affects the drop in the model, it can be used as a feature selection, which ever is a perfect '0' it says that it dosent affect the model and hence they can be removed."
   ]
  },
  {
   "cell_type": "markdown",
   "metadata": {},
   "source": [
    "# KNN Algorithm"
   ]
  },
  {
   "cell_type": "code",
   "execution_count": 28,
   "metadata": {},
   "outputs": [
    {
     "data": {
      "text/plain": [
       "RandomizedSearchCV(cv=3, estimator=KNeighborsClassifier(), n_iter=50, n_jobs=-1,\n",
       "                   param_distributions={'n_neighbors': <scipy.stats._distn_infrastructure.rv_frozen object at 0x000001587E770A08>,\n",
       "                                        'p': <scipy.stats._distn_infrastructure.rv_frozen object at 0x000001587E6D8588>},\n",
       "                   random_state=3, return_train_score=True)"
      ]
     },
     "execution_count": 28,
     "metadata": {},
     "output_type": "execute_result"
    }
   ],
   "source": [
    "from sklearn.neighbors import KNeighborsClassifier\n",
    "from sklearn.model_selection import RandomizedSearchCV,GridSearchCV\n",
    "from scipy.stats import randint as sp_randint\n",
    "\n",
    "knn=KNeighborsClassifier()\n",
    "\n",
    "params={'n_neighbors':sp_randint(1,20),'p':sp_randint(1,5)}\n",
    "\n",
    "rsearch_knn=RandomizedSearchCV(knn,param_distributions=params,cv=3,n_iter=50,return_train_score=True,random_state=3,n_jobs=-1)\n",
    "rsearch_knn.fit(Xs,y)"
   ]
  },
  {
   "cell_type": "code",
   "execution_count": 29,
   "metadata": {},
   "outputs": [
    {
     "data": {
      "text/plain": [
       "{'n_neighbors': 18, 'p': 1}"
      ]
     },
     "execution_count": 29,
     "metadata": {},
     "output_type": "execute_result"
    }
   ],
   "source": [
    "rsearch_knn.best_params_"
   ]
  },
  {
   "cell_type": "code",
   "execution_count": 30,
   "metadata": {},
   "outputs": [
    {
     "name": "stdout",
     "output_type": "stream",
     "text": [
      "Confusion Matrix - Train: \n",
      " [[1628  179]\n",
      " [ 293  361]]\n",
      "\n",
      "\n",
      "Overall Accuracy - Train:  0.8082080455099553\n",
      "AUC - Train:  0.8580046336960072\n",
      "\n",
      "\n",
      "Confusion Matrix - Test: \n",
      " [[699  78]\n",
      " [132 146]]\n",
      "\n",
      "\n",
      "Overall Accuracy - Test:  0.8009478672985783\n",
      "Classification Report-Test: \n",
      "               precision    recall  f1-score   support\n",
      "\n",
      "           0       0.84      0.90      0.87       777\n",
      "           1       0.65      0.53      0.58       278\n",
      "\n",
      "    accuracy                           0.80      1055\n",
      "   macro avg       0.75      0.71      0.73      1055\n",
      "weighted avg       0.79      0.80      0.79      1055\n",
      "\n",
      "AUC - Test:  0.8438631334314788\n"
     ]
    },
    {
     "data": {
      "image/png": "[encoded data removed]",
      "text/plain": [
       "<Figure size 432x288 with 2 Axes>"
      ]
     },
     "metadata": {
      "needs_background": "light"
     },
     "output_type": "display_data"
    }
   ],
   "source": [
    "from sklearn.metrics import confusion_matrix,accuracy_score,classification_report,roc_auc_score,roc_curve\n",
    "\n",
    "\n",
    "knn=KNeighborsClassifier(**rsearch_knn.best_params_)\n",
    "\n",
    "# done above\n",
    "knn.fit(X_trains,y_train)\n",
    "y_train_pred = knn.predict(X_trains)\n",
    "y_train_prob = knn.predict_proba(X_trains)[:,1]\n",
    "\n",
    "print('Confusion Matrix - Train: \\n', confusion_matrix(y_train, y_train_pred))\n",
    "print('\\n')\n",
    "print('Overall Accuracy - Train: ', accuracy_score(y_train, y_train_pred))\n",
    "print('AUC - Train: ', roc_auc_score(y_train, y_train_prob))\n",
    "\n",
    "y_test_pred = knn.predict(X_tests)\n",
    "y_test_prob = knn.predict_proba(X_tests)[:,1]\n",
    "\n",
    "print('\\n')\n",
    "print('Confusion Matrix - Test: \\n', confusion_matrix(y_test, y_test_pred))\n",
    "print('\\n')\n",
    "print('Overall Accuracy - Test: ', accuracy_score(y_test, y_test_pred))\n",
    "print('Classification Report-Test: \\n', classification_report(y_test,y_test_pred))\n",
    "print('AUC - Test: ', roc_auc_score(y_test, y_test_prob))\n",
    "\n",
    "\n",
    "fpr,tpr,th=roc_curve(y_test, y_test_prob)\n",
    "fig,ax=plt.subplots()\n",
    "plt.plot(fpr,tpr)\n",
    "plt.plot(fpr,fpr)\n",
    "ax1=ax.twinx()"
   ]
  },
  {
   "cell_type": "markdown",
   "metadata": {},
   "source": [
    "# Logistic Regression Model"
   ]
  },
  {
   "cell_type": "code",
   "execution_count": 31,
   "metadata": {},
   "outputs": [
    {
     "name": "stdout",
     "output_type": "stream",
     "text": [
      "Confusion Matrix - Train: \n",
      " [[1628  179]\n",
      " [ 293  361]]\n",
      "\n",
      "\n",
      "Overall Accuracy - Train:  0.8082080455099553\n",
      "AUC - Train:  0.8580046336960072\n",
      "\n",
      "\n",
      "Confusion Matrix - Test: \n",
      " [[699  78]\n",
      " [132 146]]\n",
      "\n",
      "\n",
      "Overall Accuracy - Test:  0.8009478672985783\n",
      "AUC - Test:  0.8438631334314788\n",
      "\n",
      "\n",
      "Classification Report-Test: \n",
      "               precision    recall  f1-score   support\n",
      "\n",
      "           0       0.84      0.90      0.87       777\n",
      "           1       0.65      0.53      0.58       278\n",
      "\n",
      "    accuracy                           0.80      1055\n",
      "   macro avg       0.75      0.71      0.73      1055\n",
      "weighted avg       0.79      0.80      0.79      1055\n",
      "\n"
     ]
    },
    {
     "data": {
      "image/png": "[encoded data removed]",
      "text/plain": [
       "<Figure size 432x288 with 1 Axes>"
      ]
     },
     "metadata": {
      "needs_background": "light"
     },
     "output_type": "display_data"
    }
   ],
   "source": [
    "from sklearn.linear_model import LogisticRegression\n",
    "\n",
    "lr = LogisticRegression(solver = 'liblinear')\n",
    "\n",
    "lr.fit(X_trains, y_train)\n",
    "\n",
    "ytrain_pred = lr.predict(X_trains)\n",
    "ytrain_prob = lr.predict_proba(X_trains)[:,1]\n",
    "\n",
    "print('Confusion Matrix - Train: \\n', confusion_matrix(y_train, y_train_pred))\n",
    "print('\\n')\n",
    "print('Overall Accuracy - Train: ', accuracy_score(y_train, y_train_pred))\n",
    "print('AUC - Train: ', roc_auc_score(y_train, y_train_prob))\n",
    "\n",
    "ytest_pred = lr.predict(X_tests)\n",
    "ytest_prob = lr.predict_proba(X_tests)[:,1]\n",
    "\n",
    "print('\\n')\n",
    "print('Confusion Matrix - Test: \\n', confusion_matrix(y_test, y_test_pred))\n",
    "print('\\n')\n",
    "print('Overall Accuracy - Test: ', accuracy_score(y_test, y_test_pred))\n",
    "print('AUC - Test: ', roc_auc_score(y_test, y_test_prob))\n",
    "print('\\n')\n",
    "print('Classification Report-Test: \\n', classification_report(y_test, y_test_pred))\n",
    "    \n",
    "fpr, tpr, threasholds = roc_curve(y_test, y_test_prob)\n",
    "plt.plot(fpr, tpr, 'c')\n",
    "plt.plot(fpr, fpr, 'r')\n",
    "plt.xlabel('FPR')\n",
    "plt.ylabel('TPR')\n",
    "plt.show()"
   ]
  },
  {
   "cell_type": "markdown",
   "metadata": {},
   "source": [
    "# Stacking results of 3 learners(Random Forest,KNN,Logistic Regression)"
   ]
  },
  {
   "cell_type": "markdown",
   "metadata": {},
   "source": [
    "# Hard Voting"
   ]
  },
  {
   "cell_type": "code",
   "execution_count": 32,
   "metadata": {},
   "outputs": [],
   "source": [
    "from sklearn.ensemble import VotingClassifier\n",
    "lr= LogisticRegression(solver='liblinear')\n",
    "knn=KNeighborsClassifier(**rsearch_knn.best_params_)\n",
    "rfc=RandomForestClassifier(**rsearch_rfc.best_params_)"
   ]
  },
  {
   "cell_type": "code",
   "execution_count": 33,
   "metadata": {},
   "outputs": [
    {
     "name": "stdout",
     "output_type": "stream",
     "text": [
      "Accuracy Score-Train: 0.8122714343762698\n",
      "Accuracy Score-Test: 0.8132701421800947\n"
     ]
    }
   ],
   "source": [
    "clf=VotingClassifier(estimators=[('lr',lr),('knn',knn),('rfc',rfc)],voting='hard')\n",
    "\n",
    "clf.fit(X_trains,y_train)\n",
    "\n",
    "y_train_pred=clf.predict(X_trains)\n",
    "y_test_pred=clf.predict(X_tests)\n",
    "\n",
    "print('Accuracy Score-Train:', accuracy_score(y_train, y_train_pred))\n",
    "print('Accuracy Score-Test:', accuracy_score(y_test, y_test_pred))"
   ]
  },
  {
   "cell_type": "markdown",
   "metadata": {},
   "source": [
    "# Soft Voting"
   ]
  },
  {
   "cell_type": "code",
   "execution_count": 34,
   "metadata": {},
   "outputs": [
    {
     "name": "stdout",
     "output_type": "stream",
     "text": [
      "Confusion Matrix - Train: \n",
      " [[1672  135]\n",
      " [ 327  327]]\n",
      "\n",
      "\n",
      "Overall Accuracy - Train:  0.8122714343762698\n",
      "AUC - Train:  0.8580046336960072\n",
      "\n",
      "\n",
      "Confusion Matrix - Test: \n",
      " [[719  58]\n",
      " [139 139]]\n",
      "\n",
      "\n",
      "Overall Accuracy - Test:  0.8132701421800947\n",
      "AUC - Test:  0.8438631334314788\n",
      "\n",
      "\n",
      "Classification Report-Test: \n",
      "               precision    recall  f1-score   support\n",
      "\n",
      "           0       0.84      0.93      0.88       777\n",
      "           1       0.71      0.50      0.59       278\n",
      "\n",
      "    accuracy                           0.81      1055\n",
      "   macro avg       0.77      0.71      0.73      1055\n",
      "weighted avg       0.80      0.81      0.80      1055\n",
      "\n"
     ]
    },
    {
     "data": {
      "image/png": "[encoded data removed]",
      "text/plain": [
       "<Figure size 432x288 with 1 Axes>"
      ]
     },
     "metadata": {
      "needs_background": "light"
     },
     "output_type": "display_data"
    }
   ],
   "source": [
    "clf=VotingClassifier(estimators=[('lr',lr),('knn',knn),('rfc',rfc)],voting='soft')\n",
    "\n",
    "clf.fit(X_trains, y_train)\n",
    "\n",
    "ytrain_pred = clf.predict(X_trains)\n",
    "ytrain_prob = clf.predict_proba(X_trains)[:,1]\n",
    "\n",
    "print('Confusion Matrix - Train: \\n', confusion_matrix(y_train, y_train_pred))\n",
    "print('\\n')\n",
    "print('Overall Accuracy - Train: ', accuracy_score(y_train, y_train_pred))\n",
    "print('AUC - Train: ', roc_auc_score(y_train, y_train_prob))\n",
    "\n",
    "ytest_pred = clf.predict(X_tests)\n",
    "ytest_prob = clf.predict_proba(X_tests)[:,1]\n",
    "\n",
    "print('\\n')\n",
    "print('Confusion Matrix - Test: \\n', confusion_matrix(y_test, y_test_pred))\n",
    "print('\\n')\n",
    "print('Overall Accuracy - Test: ', accuracy_score(y_test, y_test_pred))\n",
    "print('AUC - Test: ', roc_auc_score(y_test, y_test_prob))\n",
    "print('\\n')\n",
    "print('Classification Report-Test: \\n', classification_report(y_test, y_test_pred))\n",
    "    \n",
    "fpr, tpr, threasholds = roc_curve(y_test, y_test_prob)\n",
    "plt.plot(fpr, tpr, 'c')\n",
    "plt.plot(fpr, fpr, 'r')\n",
    "plt.xlabel('FPR')\n",
    "plt.ylabel('TPR')\n",
    "plt.show()"
   ]
  },
  {
   "cell_type": "markdown",
   "metadata": {},
   "source": [
    "# Soft Voting using weightage"
   ]
  },
  {
   "cell_type": "code",
   "execution_count": 35,
   "metadata": {},
   "outputs": [
    {
     "name": "stdout",
     "output_type": "stream",
     "text": [
      "Confusion Matrix - Train: \n",
      " [[1672  135]\n",
      " [ 327  327]]\n",
      "\n",
      "\n",
      "Overall Accuracy - Train:  0.8122714343762698\n",
      "AUC - Train:  0.8580046336960072\n",
      "\n",
      "\n",
      "Confusion Matrix - Test: \n",
      " [[719  58]\n",
      " [139 139]]\n",
      "\n",
      "\n",
      "Overall Accuracy - Test:  0.8132701421800947\n",
      "AUC - Test:  0.8438631334314788\n",
      "\n",
      "\n",
      "Classification Report-Test: \n",
      "               precision    recall  f1-score   support\n",
      "\n",
      "           0       0.84      0.93      0.88       777\n",
      "           1       0.71      0.50      0.59       278\n",
      "\n",
      "    accuracy                           0.81      1055\n",
      "   macro avg       0.77      0.71      0.73      1055\n",
      "weighted avg       0.80      0.81      0.80      1055\n",
      "\n"
     ]
    },
    {
     "data": {
      "image/png": "[encoded data removed]",
      "text/plain": [
       "<Figure size 432x288 with 1 Axes>"
      ]
     },
     "metadata": {
      "needs_background": "light"
     },
     "output_type": "display_data"
    }
   ],
   "source": [
    "clf=VotingClassifier(estimators=[('lr',lr),('knn',knn),('rfc',rfc)],weights=[1,2,3],voting='soft')\n",
    "\n",
    "clf.fit(X_trains, y_train)\n",
    "\n",
    "ytrain_pred = clf.predict(X_trains)\n",
    "ytrain_prob = clf.predict_proba(X_trains)[:,1]\n",
    "\n",
    "print('Confusion Matrix - Train: \\n', confusion_matrix(y_train, y_train_pred))\n",
    "print('\\n')\n",
    "print('Overall Accuracy - Train: ', accuracy_score(y_train, y_train_pred))\n",
    "print('AUC - Train: ', roc_auc_score(y_train, y_train_prob))\n",
    "\n",
    "ytest_pred = clf.predict(X_tests)\n",
    "ytest_prob = clf.predict_proba(X_tests)[:,1]\n",
    "\n",
    "print('\\n')\n",
    "print('Confusion Matrix - Test: \\n', confusion_matrix(y_test, y_test_pred))\n",
    "print('\\n')\n",
    "print('Overall Accuracy - Test: ', accuracy_score(y_test, y_test_pred))\n",
    "print('AUC - Test: ', roc_auc_score(y_test, y_test_prob))\n",
    "print('\\n')\n",
    "print('Classification Report-Test: \\n', classification_report(y_test, y_test_pred))\n",
    "    \n",
    "fpr, tpr, threasholds = roc_curve(y_test, y_test_prob)\n",
    "plt.plot(fpr, tpr, 'c')\n",
    "plt.plot(fpr, fpr, 'r')\n",
    "plt.xlabel('FPR')\n",
    "plt.ylabel('TPR')\n",
    "plt.show()"
   ]
  }
 ],
 "metadata": {
  "kernelspec": {
   "display_name": "Python 3",
   "language": "python",
   "name": "python3"
  },
  "language_info": {
   "codemirror_mode": {
    "name": "ipython",
    "version": 3
   },
   "file_extension": ".py",
   "mimetype": "text/x-python",
   "name": "python",
   "nbconvert_exporter": "python",
   "pygments_lexer": "ipython3",
   "version": "3.7.4"
  }
 },
 "nbformat": 4,
 "nbformat_minor": 2
}
